{
  "cells": [
    {
      "cell_type": "code",
      "execution_count": 2,
      "id": "282c342e-aa2c-4112-a80c-adaffb9d3583",
      "metadata": {
        "id": "282c342e-aa2c-4112-a80c-adaffb9d3583"
      },
      "outputs": [],
      "source": [
        "import tensorflow as tf\n",
        "from tensorflow.keras import layers\n",
        "import pandas as pd\n",
        "import numpy as np\n",
        "from tensorflow.keras import datasets, layers, models\n",
        "from tensorflow.keras.utils import to_categorical"
      ]
    },
    {
      "cell_type": "code",
      "execution_count": 5,
      "id": "04d35529-b765-423e-9e95-107d2918c876",
      "metadata": {
        "colab": {
          "base_uri": "https://localhost:8080/"
        },
        "id": "04d35529-b765-423e-9e95-107d2918c876",
        "outputId": "fc0dd7e8-e54f-4cc5-afa0-0d28ab996e6d"
      },
      "outputs": [
        {
          "output_type": "stream",
          "name": "stdout",
          "text": [
            "iris.csv\n"
          ]
        }
      ],
      "source": [
        "dataFolder = 'input/'\n",
        "dataFile = \"iris.csv\"\n",
        "print(dataFile)"
      ]
    },
    {
      "cell_type": "code",
      "execution_count": 6,
      "id": "766c885b-bc52-41cc-98b3-825880412934",
      "metadata": {
        "colab": {
          "base_uri": "https://localhost:8080/",
          "height": 206
        },
        "id": "766c885b-bc52-41cc-98b3-825880412934",
        "outputId": "248a925e-5b39-476a-c578-74b9bd409996"
      },
      "outputs": [
        {
          "output_type": "execute_result",
          "data": {
            "text/plain": [
              "   5.1  3.5  1.4  0.2  Iris-setosa\n",
              "0  4.9  3.0  1.4  0.2  Iris-setosa\n",
              "1  4.7  3.2  1.3  0.2  Iris-setosa\n",
              "2  4.6  3.1  1.5  0.2  Iris-setosa\n",
              "3  5.0  3.6  1.4  0.2  Iris-setosa\n",
              "4  5.4  3.9  1.7  0.4  Iris-setosa"
            ],
            "text/html": [
              "\n",
              "  <div id=\"df-4fc7370a-8295-4cbb-8627-4b90d842fd47\">\n",
              "    <div class=\"colab-df-container\">\n",
              "      <div>\n",
              "<style scoped>\n",
              "    .dataframe tbody tr th:only-of-type {\n",
              "        vertical-align: middle;\n",
              "    }\n",
              "\n",
              "    .dataframe tbody tr th {\n",
              "        vertical-align: top;\n",
              "    }\n",
              "\n",
              "    .dataframe thead th {\n",
              "        text-align: right;\n",
              "    }\n",
              "</style>\n",
              "<table border=\"1\" class=\"dataframe\">\n",
              "  <thead>\n",
              "    <tr style=\"text-align: right;\">\n",
              "      <th></th>\n",
              "      <th>5.1</th>\n",
              "      <th>3.5</th>\n",
              "      <th>1.4</th>\n",
              "      <th>0.2</th>\n",
              "      <th>Iris-setosa</th>\n",
              "    </tr>\n",
              "  </thead>\n",
              "  <tbody>\n",
              "    <tr>\n",
              "      <th>0</th>\n",
              "      <td>4.9</td>\n",
              "      <td>3.0</td>\n",
              "      <td>1.4</td>\n",
              "      <td>0.2</td>\n",
              "      <td>Iris-setosa</td>\n",
              "    </tr>\n",
              "    <tr>\n",
              "      <th>1</th>\n",
              "      <td>4.7</td>\n",
              "      <td>3.2</td>\n",
              "      <td>1.3</td>\n",
              "      <td>0.2</td>\n",
              "      <td>Iris-setosa</td>\n",
              "    </tr>\n",
              "    <tr>\n",
              "      <th>2</th>\n",
              "      <td>4.6</td>\n",
              "      <td>3.1</td>\n",
              "      <td>1.5</td>\n",
              "      <td>0.2</td>\n",
              "      <td>Iris-setosa</td>\n",
              "    </tr>\n",
              "    <tr>\n",
              "      <th>3</th>\n",
              "      <td>5.0</td>\n",
              "      <td>3.6</td>\n",
              "      <td>1.4</td>\n",
              "      <td>0.2</td>\n",
              "      <td>Iris-setosa</td>\n",
              "    </tr>\n",
              "    <tr>\n",
              "      <th>4</th>\n",
              "      <td>5.4</td>\n",
              "      <td>3.9</td>\n",
              "      <td>1.7</td>\n",
              "      <td>0.4</td>\n",
              "      <td>Iris-setosa</td>\n",
              "    </tr>\n",
              "  </tbody>\n",
              "</table>\n",
              "</div>\n",
              "      <button class=\"colab-df-convert\" onclick=\"convertToInteractive('df-4fc7370a-8295-4cbb-8627-4b90d842fd47')\"\n",
              "              title=\"Convert this dataframe to an interactive table.\"\n",
              "              style=\"display:none;\">\n",
              "        \n",
              "  <svg xmlns=\"http://www.w3.org/2000/svg\" height=\"24px\"viewBox=\"0 0 24 24\"\n",
              "       width=\"24px\">\n",
              "    <path d=\"M0 0h24v24H0V0z\" fill=\"none\"/>\n",
              "    <path d=\"M18.56 5.44l.94 2.06.94-2.06 2.06-.94-2.06-.94-.94-2.06-.94 2.06-2.06.94zm-11 1L8.5 8.5l.94-2.06 2.06-.94-2.06-.94L8.5 2.5l-.94 2.06-2.06.94zm10 10l.94 2.06.94-2.06 2.06-.94-2.06-.94-.94-2.06-.94 2.06-2.06.94z\"/><path d=\"M17.41 7.96l-1.37-1.37c-.4-.4-.92-.59-1.43-.59-.52 0-1.04.2-1.43.59L10.3 9.45l-7.72 7.72c-.78.78-.78 2.05 0 2.83L4 21.41c.39.39.9.59 1.41.59.51 0 1.02-.2 1.41-.59l7.78-7.78 2.81-2.81c.8-.78.8-2.07 0-2.86zM5.41 20L4 18.59l7.72-7.72 1.47 1.35L5.41 20z\"/>\n",
              "  </svg>\n",
              "      </button>\n",
              "      \n",
              "  <style>\n",
              "    .colab-df-container {\n",
              "      display:flex;\n",
              "      flex-wrap:wrap;\n",
              "      gap: 12px;\n",
              "    }\n",
              "\n",
              "    .colab-df-convert {\n",
              "      background-color: #E8F0FE;\n",
              "      border: none;\n",
              "      border-radius: 50%;\n",
              "      cursor: pointer;\n",
              "      display: none;\n",
              "      fill: #1967D2;\n",
              "      height: 32px;\n",
              "      padding: 0 0 0 0;\n",
              "      width: 32px;\n",
              "    }\n",
              "\n",
              "    .colab-df-convert:hover {\n",
              "      background-color: #E2EBFA;\n",
              "      box-shadow: 0px 1px 2px rgba(60, 64, 67, 0.3), 0px 1px 3px 1px rgba(60, 64, 67, 0.15);\n",
              "      fill: #174EA6;\n",
              "    }\n",
              "\n",
              "    [theme=dark] .colab-df-convert {\n",
              "      background-color: #3B4455;\n",
              "      fill: #D2E3FC;\n",
              "    }\n",
              "\n",
              "    [theme=dark] .colab-df-convert:hover {\n",
              "      background-color: #434B5C;\n",
              "      box-shadow: 0px 1px 3px 1px rgba(0, 0, 0, 0.15);\n",
              "      filter: drop-shadow(0px 1px 2px rgba(0, 0, 0, 0.3));\n",
              "      fill: #FFFFFF;\n",
              "    }\n",
              "  </style>\n",
              "\n",
              "      <script>\n",
              "        const buttonEl =\n",
              "          document.querySelector('#df-4fc7370a-8295-4cbb-8627-4b90d842fd47 button.colab-df-convert');\n",
              "        buttonEl.style.display =\n",
              "          google.colab.kernel.accessAllowed ? 'block' : 'none';\n",
              "\n",
              "        async function convertToInteractive(key) {\n",
              "          const element = document.querySelector('#df-4fc7370a-8295-4cbb-8627-4b90d842fd47');\n",
              "          const dataTable =\n",
              "            await google.colab.kernel.invokeFunction('convertToInteractive',\n",
              "                                                     [key], {});\n",
              "          if (!dataTable) return;\n",
              "\n",
              "          const docLinkHtml = 'Like what you see? Visit the ' +\n",
              "            '<a target=\"_blank\" href=https://colab.research.google.com/notebooks/data_table.ipynb>data table notebook</a>'\n",
              "            + ' to learn more about interactive tables.';\n",
              "          element.innerHTML = '';\n",
              "          dataTable['output_type'] = 'display_data';\n",
              "          await google.colab.output.renderOutput(dataTable, element);\n",
              "          const docLink = document.createElement('div');\n",
              "          docLink.innerHTML = docLinkHtml;\n",
              "          element.appendChild(docLink);\n",
              "        }\n",
              "      </script>\n",
              "    </div>\n",
              "  </div>\n",
              "  "
            ]
          },
          "metadata": {},
          "execution_count": 6
        }
      ],
      "source": [
        "df = pd.read_csv(dataFile)\n",
        "df.head()"
      ]
    },
    {
      "cell_type": "code",
      "execution_count": 7,
      "id": "571f6981-d434-496e-8373-e6341a3494bf",
      "metadata": {
        "id": "571f6981-d434-496e-8373-e6341a3494bf"
      },
      "outputs": [],
      "source": [
        "X = df.iloc[:,0:4].values\n",
        "y = df.iloc[:,4].values"
      ]
    },
    {
      "cell_type": "code",
      "execution_count": 8,
      "id": "7bf3bd55-af55-4804-a482-39b21c52d2e4",
      "metadata": {
        "colab": {
          "base_uri": "https://localhost:8080/"
        },
        "id": "7bf3bd55-af55-4804-a482-39b21c52d2e4",
        "outputId": "a7e13aaf-2796-4431-c7c1-221e6231acb5"
      },
      "outputs": [
        {
          "output_type": "stream",
          "name": "stdout",
          "text": [
            "[[4.9 3.  1.4 0.2]\n",
            " [4.7 3.2 1.3 0.2]\n",
            " [4.6 3.1 1.5 0.2]\n",
            " [5.  3.6 1.4 0.2]\n",
            " [5.4 3.9 1.7 0.4]]\n",
            "['Iris-setosa' 'Iris-setosa' 'Iris-setosa' 'Iris-setosa' 'Iris-setosa']\n"
          ]
        }
      ],
      "source": [
        "print(X[0:5])\n",
        "print(y[0:5])"
      ]
    },
    {
      "cell_type": "code",
      "execution_count": 9,
      "id": "4a7aad3c-dadf-4765-97eb-1ba33432c948",
      "metadata": {
        "colab": {
          "base_uri": "https://localhost:8080/"
        },
        "id": "4a7aad3c-dadf-4765-97eb-1ba33432c948",
        "outputId": "d14be7cb-cc74-47a5-e111-6a8a6d23bec0"
      },
      "outputs": [
        {
          "output_type": "stream",
          "name": "stdout",
          "text": [
            "(149, 4)\n",
            "(149,)\n"
          ]
        }
      ],
      "source": [
        "print(X.shape)\n",
        "print(y.shape)"
      ]
    },
    {
      "cell_type": "code",
      "execution_count": 10,
      "id": "b9822e73-0f78-4c8a-9edc-0a734c3ec645",
      "metadata": {
        "id": "b9822e73-0f78-4c8a-9edc-0a734c3ec645"
      },
      "outputs": [],
      "source": [
        "from sklearn.preprocessing import LabelEncoder\n",
        "encoder =  LabelEncoder()\n",
        "y1 = encoder.fit_transform(y)"
      ]
    },
    {
      "cell_type": "code",
      "execution_count": 11,
      "id": "097626a9-add3-450e-8e06-33cbf6be8aa5",
      "metadata": {
        "colab": {
          "base_uri": "https://localhost:8080/"
        },
        "id": "097626a9-add3-450e-8e06-33cbf6be8aa5",
        "outputId": "4321a9d5-5247-4a97-ae5d-05cf8587dca7"
      },
      "outputs": [
        {
          "output_type": "stream",
          "name": "stdout",
          "text": [
            "[0 0 0 0 0 0 0 0 0 0 0 0 0 0 0 0 0 0 0 0 0 0 0 0 0 0 0 0 0 0 0 0 0 0 0 0 0\n",
            " 0 0 0 0 0 0 0 0 0 0 0 0 1 1 1 1 1 1 1 1 1 1 1 1 1 1 1 1 1 1 1 1 1 1 1 1 1\n",
            " 1 1 1 1 1 1 1 1 1 1 1 1 1 1 1 1 1 1 1 1 1 1 1 1 1 2 2 2 2 2 2 2 2 2 2 2 2\n",
            " 2 2 2 2 2 2 2 2 2 2 2 2 2 2 2 2 2 2 2 2 2 2 2 2 2 2 2 2 2 2 2 2 2 2 2 2 2\n",
            " 2]\n"
          ]
        }
      ],
      "source": [
        "print(y1)"
      ]
    },
    {
      "cell_type": "code",
      "execution_count": 12,
      "id": "b21f0284-5ea2-4436-9f18-583c57dabae7",
      "metadata": {
        "colab": {
          "base_uri": "https://localhost:8080/"
        },
        "id": "b21f0284-5ea2-4436-9f18-583c57dabae7",
        "outputId": "e0b0c85a-c5cb-4418-9e3c-5feb44ebea39"
      },
      "outputs": [
        {
          "output_type": "stream",
          "name": "stdout",
          "text": [
            "[[1 0 0]\n",
            " [1 0 0]\n",
            " [1 0 0]\n",
            " [1 0 0]\n",
            " [1 0 0]]\n"
          ]
        }
      ],
      "source": [
        "Y = pd.get_dummies(y1).values\n",
        "print(Y[0:5])"
      ]
    },
    {
      "cell_type": "code",
      "execution_count": 13,
      "id": "a1b3458b-a5e8-4d6a-bf89-f88d2f6b1b10",
      "metadata": {
        "id": "a1b3458b-a5e8-4d6a-bf89-f88d2f6b1b10"
      },
      "outputs": [],
      "source": [
        "from sklearn.model_selection import train_test_split\n",
        "X_train, X_test, y_train, y_test = train_test_split(X, Y, test_size=0.2, random_state=0)"
      ]
    },
    {
      "cell_type": "code",
      "execution_count": 14,
      "id": "ec94074c-a192-4399-8d63-c49f8eb764ba",
      "metadata": {
        "colab": {
          "base_uri": "https://localhost:8080/"
        },
        "id": "ec94074c-a192-4399-8d63-c49f8eb764ba",
        "outputId": "a4d011c4-7d65-4478-c874-5bb9c2d24223"
      },
      "outputs": [
        {
          "output_type": "stream",
          "name": "stdout",
          "text": [
            "[[5.2 3.4 1.4 0.2]\n",
            " [5.1 2.5 3.  1.1]\n",
            " [6.2 2.9 4.3 1.3]\n",
            " [5.9 3.2 4.8 1.8]\n",
            " [5.1 3.8 1.5 0.3]]\n"
          ]
        }
      ],
      "source": [
        "print(X_train[0:5])"
      ]
    },
    {
      "cell_type": "code",
      "execution_count": 15,
      "id": "e92b0006-7d0d-487c-ade2-1fc9fbef1b75",
      "metadata": {
        "colab": {
          "base_uri": "https://localhost:8080/"
        },
        "id": "e92b0006-7d0d-487c-ade2-1fc9fbef1b75",
        "outputId": "2f21f7df-1fa0-4b4a-85f5-c0219c6cde15"
      },
      "outputs": [
        {
          "output_type": "stream",
          "name": "stdout",
          "text": [
            "[[1 0 0]\n",
            " [0 1 0]\n",
            " [0 1 0]\n",
            " [0 1 0]\n",
            " [1 0 0]]\n"
          ]
        }
      ],
      "source": [
        "print(y_train[0:5])"
      ]
    },
    {
      "cell_type": "code",
      "execution_count": 16,
      "id": "baaf8541-0b33-4226-b5b8-45aae58e7b81",
      "metadata": {
        "colab": {
          "base_uri": "https://localhost:8080/"
        },
        "id": "baaf8541-0b33-4226-b5b8-45aae58e7b81",
        "outputId": "4b667996-f143-4991-9b5b-d422e38964b6"
      },
      "outputs": [
        {
          "output_type": "stream",
          "name": "stdout",
          "text": [
            "[[6.1 2.6 5.6 1.4]\n",
            " [6.5 3.2 5.1 2. ]\n",
            " [5.  2.  3.5 1. ]\n",
            " [5.5 2.4 3.7 1. ]\n",
            " [4.4 2.9 1.4 0.2]]\n"
          ]
        }
      ],
      "source": [
        "print(X_test[0:5])"
      ]
    },
    {
      "cell_type": "code",
      "execution_count": 17,
      "id": "65645ad6-823a-47b6-b40e-69dc156eaac7",
      "metadata": {
        "colab": {
          "base_uri": "https://localhost:8080/"
        },
        "id": "65645ad6-823a-47b6-b40e-69dc156eaac7",
        "outputId": "6ed71e76-f042-424b-9aac-51765a951a81"
      },
      "outputs": [
        {
          "output_type": "stream",
          "name": "stdout",
          "text": [
            "[[0 0 1]\n",
            " [0 0 1]\n",
            " [0 1 0]\n",
            " [0 1 0]\n",
            " [1 0 0]]\n"
          ]
        }
      ],
      "source": [
        "print(y_test[0:5])"
      ]
    },
    {
      "cell_type": "code",
      "execution_count": 28,
      "id": "0a49e05b-6fc3-427b-b1b6-4e08e40aec94",
      "metadata": {
        "colab": {
          "base_uri": "https://localhost:8080/"
        },
        "id": "0a49e05b-6fc3-427b-b1b6-4e08e40aec94",
        "outputId": "9ab0e66f-e5ad-4cb2-a344-0a7175bf0726"
      },
      "outputs": [
        {
          "output_type": "execute_result",
          "data": {
            "text/plain": [
              "<keras.engine.sequential.Sequential at 0x7f09025201c0>"
            ]
          },
          "metadata": {},
          "execution_count": 28
        }
      ],
      "source": [
        "model = tf.keras.Sequential([\n",
        "    tf.keras.layers.Dense(10, activation='tanh'),\n",
        "    tf.keras.layers.Dense(10, activation='tanh'),\n",
        "    tf.keras.layers.Dense(3, activation='tanh')\n",
        "  ])\n",
        "model"
      ]
    },
    {
      "cell_type": "code",
      "execution_count": 29,
      "id": "e2dd47cf-ace5-4868-8c6d-37b4fc356aef",
      "metadata": {
        "id": "e2dd47cf-ace5-4868-8c6d-37b4fc356aef"
      },
      "outputs": [],
      "source": [
        "model.compile(optimizer='rmsprop',\n",
        "              loss='MSE',\n",
        "              metrics=['accuracy'])"
      ]
    },
    {
      "cell_type": "code",
      "execution_count": 30,
      "id": "b8fa7767-1a5e-4d27-8d4f-baecb255de74",
      "metadata": {
        "colab": {
          "base_uri": "https://localhost:8080/"
        },
        "id": "b8fa7767-1a5e-4d27-8d4f-baecb255de74",
        "outputId": "7f56062f-14fb-4680-bb4a-1c640b918369"
      },
      "outputs": [
        {
          "output_type": "stream",
          "name": "stdout",
          "text": [
            "Epoch 1/100\n",
            "3/3 [==============================] - 1s 5ms/step - loss: 0.7061 - accuracy: 0.4034\n",
            "Epoch 2/100\n",
            "3/3 [==============================] - 0s 5ms/step - loss: 0.5978 - accuracy: 0.5882\n",
            "Epoch 3/100\n",
            "3/3 [==============================] - 0s 4ms/step - loss: 0.5129 - accuracy: 0.6639\n",
            "Epoch 4/100\n",
            "3/3 [==============================] - 0s 4ms/step - loss: 0.4358 - accuracy: 0.6639\n",
            "Epoch 5/100\n",
            "3/3 [==============================] - 0s 4ms/step - loss: 0.3692 - accuracy: 0.6639\n",
            "Epoch 6/100\n",
            "3/3 [==============================] - 0s 4ms/step - loss: 0.3111 - accuracy: 0.6639\n",
            "Epoch 7/100\n",
            "3/3 [==============================] - 0s 4ms/step - loss: 0.2661 - accuracy: 0.6639\n",
            "Epoch 8/100\n",
            "3/3 [==============================] - 0s 3ms/step - loss: 0.2301 - accuracy: 0.6639\n",
            "Epoch 9/100\n",
            "3/3 [==============================] - 0s 8ms/step - loss: 0.2035 - accuracy: 0.6639\n",
            "Epoch 10/100\n",
            "3/3 [==============================] - 0s 4ms/step - loss: 0.1834 - accuracy: 0.6639\n",
            "Epoch 11/100\n",
            "3/3 [==============================] - 0s 4ms/step - loss: 0.1677 - accuracy: 0.6639\n",
            "Epoch 12/100\n",
            "3/3 [==============================] - 0s 4ms/step - loss: 0.1574 - accuracy: 0.6639\n",
            "Epoch 13/100\n",
            "3/3 [==============================] - 0s 4ms/step - loss: 0.1481 - accuracy: 0.6639\n",
            "Epoch 14/100\n",
            "3/3 [==============================] - 0s 4ms/step - loss: 0.1419 - accuracy: 0.6639\n",
            "Epoch 15/100\n",
            "3/3 [==============================] - 0s 4ms/step - loss: 0.1363 - accuracy: 0.6639\n",
            "Epoch 16/100\n",
            "3/3 [==============================] - 0s 6ms/step - loss: 0.1320 - accuracy: 0.6807\n",
            "Epoch 17/100\n",
            "3/3 [==============================] - 0s 4ms/step - loss: 0.1289 - accuracy: 0.7143\n",
            "Epoch 18/100\n",
            "3/3 [==============================] - 0s 4ms/step - loss: 0.1265 - accuracy: 0.8067\n",
            "Epoch 19/100\n",
            "3/3 [==============================] - 0s 5ms/step - loss: 0.1242 - accuracy: 0.8403\n",
            "Epoch 20/100\n",
            "3/3 [==============================] - 0s 4ms/step - loss: 0.1226 - accuracy: 0.9244\n",
            "Epoch 21/100\n",
            "3/3 [==============================] - 0s 4ms/step - loss: 0.1214 - accuracy: 0.8319\n",
            "Epoch 22/100\n",
            "3/3 [==============================] - 0s 4ms/step - loss: 0.1200 - accuracy: 0.8655\n",
            "Epoch 23/100\n",
            "3/3 [==============================] - 0s 5ms/step - loss: 0.1188 - accuracy: 0.8319\n",
            "Epoch 24/100\n",
            "3/3 [==============================] - 0s 4ms/step - loss: 0.1179 - accuracy: 0.8403\n",
            "Epoch 25/100\n",
            "3/3 [==============================] - 0s 4ms/step - loss: 0.1166 - accuracy: 0.8655\n",
            "Epoch 26/100\n",
            "3/3 [==============================] - 0s 4ms/step - loss: 0.1161 - accuracy: 0.8487\n",
            "Epoch 27/100\n",
            "3/3 [==============================] - 0s 4ms/step - loss: 0.1149 - accuracy: 0.8571\n",
            "Epoch 28/100\n",
            "3/3 [==============================] - 0s 4ms/step - loss: 0.1143 - accuracy: 0.9244\n",
            "Epoch 29/100\n",
            "3/3 [==============================] - 0s 5ms/step - loss: 0.1133 - accuracy: 0.9580\n",
            "Epoch 30/100\n",
            "3/3 [==============================] - 0s 4ms/step - loss: 0.1122 - accuracy: 0.9496\n",
            "Epoch 31/100\n",
            "3/3 [==============================] - 0s 6ms/step - loss: 0.1116 - accuracy: 0.9244\n",
            "Epoch 32/100\n",
            "3/3 [==============================] - 0s 5ms/step - loss: 0.1108 - accuracy: 0.9412\n",
            "Epoch 33/100\n",
            "3/3 [==============================] - 0s 5ms/step - loss: 0.1098 - accuracy: 0.8908\n",
            "Epoch 34/100\n",
            "3/3 [==============================] - 0s 5ms/step - loss: 0.1089 - accuracy: 0.9580\n",
            "Epoch 35/100\n",
            "3/3 [==============================] - 0s 6ms/step - loss: 0.1081 - accuracy: 0.9244\n",
            "Epoch 36/100\n",
            "3/3 [==============================] - 0s 5ms/step - loss: 0.1077 - accuracy: 0.8739\n",
            "Epoch 37/100\n",
            "3/3 [==============================] - 0s 5ms/step - loss: 0.1076 - accuracy: 0.9580\n",
            "Epoch 38/100\n",
            "3/3 [==============================] - 0s 5ms/step - loss: 0.1064 - accuracy: 0.9328\n",
            "Epoch 39/100\n",
            "3/3 [==============================] - 0s 6ms/step - loss: 0.1057 - accuracy: 0.9328\n",
            "Epoch 40/100\n",
            "3/3 [==============================] - 0s 6ms/step - loss: 0.1045 - accuracy: 0.9412\n",
            "Epoch 41/100\n",
            "3/3 [==============================] - 0s 5ms/step - loss: 0.1043 - accuracy: 0.9160\n",
            "Epoch 42/100\n",
            "3/3 [==============================] - 0s 4ms/step - loss: 0.1032 - accuracy: 0.9412\n",
            "Epoch 43/100\n",
            "3/3 [==============================] - 0s 5ms/step - loss: 0.1022 - accuracy: 0.9580\n",
            "Epoch 44/100\n",
            "3/3 [==============================] - 0s 5ms/step - loss: 0.1015 - accuracy: 0.9580\n",
            "Epoch 45/100\n",
            "3/3 [==============================] - 0s 5ms/step - loss: 0.1006 - accuracy: 0.9412\n",
            "Epoch 46/100\n",
            "3/3 [==============================] - 0s 4ms/step - loss: 0.0994 - accuracy: 0.9496\n",
            "Epoch 47/100\n",
            "3/3 [==============================] - 0s 4ms/step - loss: 0.0985 - accuracy: 0.9580\n",
            "Epoch 48/100\n",
            "3/3 [==============================] - 0s 4ms/step - loss: 0.0983 - accuracy: 0.9244\n",
            "Epoch 49/100\n",
            "3/3 [==============================] - 0s 5ms/step - loss: 0.0967 - accuracy: 0.9580\n",
            "Epoch 50/100\n",
            "3/3 [==============================] - 0s 4ms/step - loss: 0.0956 - accuracy: 0.8824\n",
            "Epoch 51/100\n",
            "3/3 [==============================] - 0s 4ms/step - loss: 0.0954 - accuracy: 0.9412\n",
            "Epoch 52/100\n",
            "3/3 [==============================] - 0s 7ms/step - loss: 0.0944 - accuracy: 0.9664\n",
            "Epoch 53/100\n",
            "3/3 [==============================] - 0s 6ms/step - loss: 0.0929 - accuracy: 0.9664\n",
            "Epoch 54/100\n",
            "3/3 [==============================] - 0s 5ms/step - loss: 0.0917 - accuracy: 0.9328\n",
            "Epoch 55/100\n",
            "3/3 [==============================] - 0s 5ms/step - loss: 0.0908 - accuracy: 0.9580\n",
            "Epoch 56/100\n",
            "3/3 [==============================] - 0s 5ms/step - loss: 0.0904 - accuracy: 0.9580\n",
            "Epoch 57/100\n",
            "3/3 [==============================] - 0s 5ms/step - loss: 0.0891 - accuracy: 0.9496\n",
            "Epoch 58/100\n",
            "3/3 [==============================] - 0s 5ms/step - loss: 0.0879 - accuracy: 0.9160\n",
            "Epoch 59/100\n",
            "3/3 [==============================] - 0s 5ms/step - loss: 0.0864 - accuracy: 0.9076\n",
            "Epoch 60/100\n",
            "3/3 [==============================] - 0s 4ms/step - loss: 0.0853 - accuracy: 0.9580\n",
            "Epoch 61/100\n",
            "3/3 [==============================] - 0s 4ms/step - loss: 0.0843 - accuracy: 0.9580\n",
            "Epoch 62/100\n",
            "3/3 [==============================] - 0s 5ms/step - loss: 0.0843 - accuracy: 0.9244\n",
            "Epoch 63/100\n",
            "3/3 [==============================] - 0s 5ms/step - loss: 0.0829 - accuracy: 0.9580\n",
            "Epoch 64/100\n",
            "3/3 [==============================] - 0s 6ms/step - loss: 0.0813 - accuracy: 0.9580\n",
            "Epoch 65/100\n",
            "3/3 [==============================] - 0s 4ms/step - loss: 0.0797 - accuracy: 0.9580\n",
            "Epoch 66/100\n",
            "3/3 [==============================] - 0s 4ms/step - loss: 0.0790 - accuracy: 0.9328\n",
            "Epoch 67/100\n",
            "3/3 [==============================] - 0s 5ms/step - loss: 0.0780 - accuracy: 0.9412\n",
            "Epoch 68/100\n",
            "3/3 [==============================] - 0s 6ms/step - loss: 0.0764 - accuracy: 0.9580\n",
            "Epoch 69/100\n",
            "3/3 [==============================] - 0s 10ms/step - loss: 0.0756 - accuracy: 0.9328\n",
            "Epoch 70/100\n",
            "3/3 [==============================] - 0s 6ms/step - loss: 0.0747 - accuracy: 0.9328\n",
            "Epoch 71/100\n",
            "3/3 [==============================] - 0s 5ms/step - loss: 0.0730 - accuracy: 0.9412\n",
            "Epoch 72/100\n",
            "3/3 [==============================] - 0s 4ms/step - loss: 0.0749 - accuracy: 0.9412\n",
            "Epoch 73/100\n",
            "3/3 [==============================] - 0s 5ms/step - loss: 0.0706 - accuracy: 0.9580\n",
            "Epoch 74/100\n",
            "3/3 [==============================] - 0s 5ms/step - loss: 0.0698 - accuracy: 0.9664\n",
            "Epoch 75/100\n",
            "3/3 [==============================] - 0s 4ms/step - loss: 0.0696 - accuracy: 0.9328\n",
            "Epoch 76/100\n",
            "3/3 [==============================] - 0s 5ms/step - loss: 0.0684 - accuracy: 0.9328\n",
            "Epoch 77/100\n",
            "3/3 [==============================] - 0s 4ms/step - loss: 0.0668 - accuracy: 0.9580\n",
            "Epoch 78/100\n",
            "3/3 [==============================] - 0s 6ms/step - loss: 0.0667 - accuracy: 0.9580\n",
            "Epoch 79/100\n",
            "3/3 [==============================] - 0s 5ms/step - loss: 0.0647 - accuracy: 0.9580\n",
            "Epoch 80/100\n",
            "3/3 [==============================] - 0s 6ms/step - loss: 0.0636 - accuracy: 0.9664\n",
            "Epoch 81/100\n",
            "3/3 [==============================] - 0s 4ms/step - loss: 0.0632 - accuracy: 0.9580\n",
            "Epoch 82/100\n",
            "3/3 [==============================] - 0s 6ms/step - loss: 0.0617 - accuracy: 0.9664\n",
            "Epoch 83/100\n",
            "3/3 [==============================] - 0s 7ms/step - loss: 0.0605 - accuracy: 0.9580\n",
            "Epoch 84/100\n",
            "3/3 [==============================] - 0s 5ms/step - loss: 0.0615 - accuracy: 0.9496\n",
            "Epoch 85/100\n",
            "3/3 [==============================] - 0s 5ms/step - loss: 0.0603 - accuracy: 0.9664\n",
            "Epoch 86/100\n",
            "3/3 [==============================] - 0s 5ms/step - loss: 0.0582 - accuracy: 0.9664\n",
            "Epoch 87/100\n",
            "3/3 [==============================] - 0s 4ms/step - loss: 0.0570 - accuracy: 0.9664\n",
            "Epoch 88/100\n",
            "3/3 [==============================] - 0s 4ms/step - loss: 0.0560 - accuracy: 0.9664\n",
            "Epoch 89/100\n",
            "3/3 [==============================] - 0s 4ms/step - loss: 0.0552 - accuracy: 0.9664\n",
            "Epoch 90/100\n",
            "3/3 [==============================] - 0s 6ms/step - loss: 0.0560 - accuracy: 0.9580\n",
            "Epoch 91/100\n",
            "3/3 [==============================] - 0s 7ms/step - loss: 0.0535 - accuracy: 0.9664\n",
            "Epoch 92/100\n",
            "3/3 [==============================] - 0s 5ms/step - loss: 0.0534 - accuracy: 0.9580\n",
            "Epoch 93/100\n",
            "3/3 [==============================] - 0s 5ms/step - loss: 0.0523 - accuracy: 0.9664\n",
            "Epoch 94/100\n",
            "3/3 [==============================] - 0s 5ms/step - loss: 0.0513 - accuracy: 0.9580\n",
            "Epoch 95/100\n",
            "3/3 [==============================] - 0s 5ms/step - loss: 0.0510 - accuracy: 0.9664\n",
            "Epoch 96/100\n",
            "3/3 [==============================] - 0s 5ms/step - loss: 0.0505 - accuracy: 0.9580\n",
            "Epoch 97/100\n",
            "3/3 [==============================] - 0s 5ms/step - loss: 0.0494 - accuracy: 0.9580\n",
            "Epoch 98/100\n",
            "3/3 [==============================] - 0s 5ms/step - loss: 0.0486 - accuracy: 0.9580\n",
            "Epoch 99/100\n",
            "3/3 [==============================] - 0s 5ms/step - loss: 0.0483 - accuracy: 0.9664\n",
            "Epoch 100/100\n",
            "3/3 [==============================] - 0s 4ms/step - loss: 0.0483 - accuracy: 0.9664\n"
          ]
        },
        {
          "output_type": "execute_result",
          "data": {
            "text/plain": [
              "<keras.callbacks.History at 0x7f0902523fa0>"
            ]
          },
          "metadata": {},
          "execution_count": 30
        }
      ],
      "source": [
        "model.fit(X_train, y_train, batch_size=50, epochs=100)\n"
      ]
    },
    {
      "cell_type": "code",
      "execution_count": 31,
      "id": "7b62cddb-572f-4d99-8df2-64c5c20a16a1",
      "metadata": {
        "colab": {
          "base_uri": "https://localhost:8080/"
        },
        "id": "7b62cddb-572f-4d99-8df2-64c5c20a16a1",
        "outputId": "52219738-5dd3-4a31-87e8-b7d495db02c1"
      },
      "outputs": [
        {
          "output_type": "stream",
          "name": "stdout",
          "text": [
            "Test loss: 0.05261195823550224\n",
            "Test accuracy: 1.0\n"
          ]
        }
      ],
      "source": [
        "loss, accuracy = model.evaluate(X_test, y_test, verbose=0)\n",
        "print('Test loss:', loss)\n",
        "print('Test accuracy:', accuracy)"
      ]
    },
    {
      "cell_type": "code",
      "execution_count": 32,
      "id": "4460f551-50da-45ae-b127-9134c160e8b3",
      "metadata": {
        "colab": {
          "base_uri": "https://localhost:8080/"
        },
        "id": "4460f551-50da-45ae-b127-9134c160e8b3",
        "outputId": "e176bc36-e22b-48ff-8e77-f6194d5c99c7"
      },
      "outputs": [
        {
          "output_type": "stream",
          "name": "stdout",
          "text": [
            "1/1 [==============================] - 0s 84ms/step\n"
          ]
        },
        {
          "output_type": "execute_result",
          "data": {
            "text/plain": [
              "array([[ 0.09805939,  0.13803412,  0.677544  ],\n",
              "       [-0.09274536,  0.4464965 ,  0.659817  ],\n",
              "       [ 0.07079601,  0.6121169 ,  0.09518898],\n",
              "       [ 0.0933433 ,  0.68150073, -0.04082772],\n",
              "       [ 0.8486778 ,  0.15430655, -0.04788566],\n",
              "       [-0.02410395,  0.03499967,  0.7646939 ],\n",
              "       [-0.20437117,  0.4518957 ,  0.68122184],\n",
              "       [ 0.08854571,  0.6285904 ,  0.2630812 ],\n",
              "       [-0.01112294,  0.25593254,  0.6062836 ],\n",
              "       [ 0.0691068 ,  0.61540186,  0.4049649 ],\n",
              "       [ 0.8544632 ,  0.16110872, -0.07443041],\n",
              "       [ 0.84539217,  0.18164037, -0.07878979],\n",
              "       [ 0.0729652 ,  0.5532221 ,  0.4003851 ],\n",
              "       [ 0.8338958 ,  0.22246407, -0.11864825],\n",
              "       [ 0.86402243,  0.10969275, -0.02162798],\n",
              "       [ 0.00215032,  0.46690768,  0.5247032 ],\n",
              "       [-0.11015961,  0.29063246,  0.7241738 ],\n",
              "       [ 0.02552037,  0.71117324,  0.01037167],\n",
              "       [ 0.8835128 ,  0.06462622, -0.01131927],\n",
              "       [ 0.8963173 ,  0.00360771,  0.03399301],\n",
              "       [ 0.74086136,  0.3824105 , -0.20988582],\n",
              "       [ 0.8599692 ,  0.14862679, -0.07391495],\n",
              "       [-0.01181614,  0.6864721 ,  0.17477113],\n",
              "       [ 0.8394721 ,  0.19087625, -0.06466757],\n",
              "       [ 0.03080459,  0.5838851 ,  0.378929  ],\n",
              "       [ 0.13445486,  0.6482016 ,  0.19813311],\n",
              "       [ 0.04272188,  0.61761826,  0.3287556 ],\n",
              "       [ 0.88263667,  0.07462531, -0.02655031],\n",
              "       [ 0.87881494,  0.06065186,  0.03084902],\n",
              "       [-0.16589598,  0.2583792 ,  0.7279111 ]], dtype=float32)"
            ]
          },
          "metadata": {},
          "execution_count": 32
        }
      ],
      "source": [
        "y_pred = model.predict(X_test)\n",
        "y_pred"
      ]
    },
    {
      "cell_type": "code",
      "execution_count": 33,
      "id": "7443d371-157d-43c7-b9a0-103c7003edd4",
      "metadata": {
        "colab": {
          "base_uri": "https://localhost:8080/"
        },
        "id": "7443d371-157d-43c7-b9a0-103c7003edd4",
        "outputId": "6a378406-936e-4190-c58b-c64e7cd60247"
      },
      "outputs": [
        {
          "output_type": "stream",
          "name": "stdout",
          "text": [
            "Actual: [2 2 1 1 0 2 2 1 2 1 0 0 1 0 0 2 2 1 0 0 0 0 1 0 1 1 1 0 0 2]\n",
            "Predicted: [2 2 1 1 0 2 2 1 2 1 0 0 1 0 0 2 2 1 0 0 0 0 1 0 1 1 1 0 0 2]\n"
          ]
        }
      ],
      "source": [
        "actual = np.argmax(y_test,axis=1)\n",
        "predicted = np.argmax(y_pred,axis=1)\n",
        "print(f\"Actual: {actual}\")\n",
        "print(f\"Predicted: {predicted}\")"
      ]
    },
    {
      "cell_type": "code",
      "execution_count": null,
      "id": "5f81241f-2c40-4a89-96c1-b89d1b2a5bd6",
      "metadata": {
        "id": "5f81241f-2c40-4a89-96c1-b89d1b2a5bd6"
      },
      "outputs": [],
      "source": []
    }
  ],
  "metadata": {
    "kernelspec": {
      "display_name": "Python 3 (ipykernel)",
      "language": "python",
      "name": "python3"
    },
    "language_info": {
      "codemirror_mode": {
        "name": "ipython",
        "version": 3
      },
      "file_extension": ".py",
      "mimetype": "text/x-python",
      "name": "python",
      "nbconvert_exporter": "python",
      "pygments_lexer": "ipython3",
      "version": "3.9.12"
    },
    "colab": {
      "provenance": []
    }
  },
  "nbformat": 4,
  "nbformat_minor": 5
}